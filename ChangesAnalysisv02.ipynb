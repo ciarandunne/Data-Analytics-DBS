{
 "cells": [
  {
   "cell_type": "markdown",
   "metadata": {},
   "source": [
    "# CA4 - Ciaran Dunne - 10393193 "
   ]
  },
  {
   "cell_type": "markdown",
   "metadata": {},
   "source": [
    "Import each of the libaries that will be used"
   ]
  },
  {
   "cell_type": "code",
   "execution_count": 259,
   "metadata": {},
   "outputs": [],
   "source": [
    "import pandas as pd"
   ]
  },
  {
   "cell_type": "code",
   "execution_count": 260,
   "metadata": {},
   "outputs": [],
   "source": [
    "import numpy as np"
   ]
  },
  {
   "cell_type": "code",
   "execution_count": 261,
   "metadata": {},
   "outputs": [],
   "source": [
    "import matplotlib.pyplot as plt"
   ]
  },
  {
   "cell_type": "code",
   "execution_count": 262,
   "metadata": {},
   "outputs": [],
   "source": [
    "import seaborn as sns"
   ]
  },
  {
   "cell_type": "markdown",
   "metadata": {},
   "source": [
    "# Step 1 - Gather the Data"
   ]
  },
  {
   "cell_type": "markdown",
   "metadata": {},
   "source": [
    "Using Python and accompanying testing, parse the data of the text log file into a useable format for analysis. In this case, a csv file. \n",
    "\n",
    "Import the csv file to be used and check it"
   ]
  },
  {
   "cell_type": "code",
   "execution_count": 263,
   "metadata": {},
   "outputs": [],
   "source": [
    "csv_file = 'changes.csv'\n",
    "changes = pd.read_csv(csv_file, usecols = [0, 1, 2, 3, 4, 5])"
   ]
  },
  {
   "cell_type": "markdown",
   "metadata": {},
   "source": [
    "# Step 2 - Prepare the Data"
   ]
  },
  {
   "cell_type": "code",
   "execution_count": 264,
   "metadata": {},
   "outputs": [
    {
     "data": {
      "text/plain": [
       "Thomas                                             191\n",
       "Jimmy                                              152\n",
       "Vincent                                             26\n",
       "/OU=Domain Control Validated/CN=svn.company.net     24\n",
       "ajon0002                                             9\n",
       "Freddie                                              7\n",
       "Nicky                                                5\n",
       "Alan                                                 5\n",
       "Dave                                                 2\n",
       "murari.krishnan                                      1\n",
       "Name: author, dtype: int64"
      ]
     },
     "execution_count": 264,
     "metadata": {},
     "output_type": "execute_result"
    }
   ],
   "source": [
    "changes['author'].value_counts()"
   ]
  },
  {
   "cell_type": "markdown",
   "metadata": {},
   "source": [
    "One of the \"users\" is unreadable - so change that to \"UNKNOWN\" for ease of use"
   ]
  },
  {
   "cell_type": "code",
   "execution_count": 265,
   "metadata": {},
   "outputs": [],
   "source": [
    "changes = changes.replace(to_replace=r'/OU=Domain Control Validated/CN=svn.company.net', value='UNKNOWN', regex=True)"
   ]
  },
  {
   "cell_type": "code",
   "execution_count": 266,
   "metadata": {
    "scrolled": true
   },
   "outputs": [],
   "source": [
    "#changes[['revision','author']]"
   ]
  },
  {
   "cell_type": "markdown",
   "metadata": {},
   "source": [
    "Split out dates for year, month and day to support analysis (mainly for month)"
   ]
  },
  {
   "cell_type": "code",
   "execution_count": 267,
   "metadata": {},
   "outputs": [],
   "source": [
    "# new data frame with split value columns \n",
    "newdate = changes[\"date\"].str.split(\"-\", n = 3, expand = True) \n",
    "  \n",
    "# making seperate column for year \n",
    "changes[\"year\"]= newdate[0] \n",
    "  \n",
    "# making seperate column for month\n",
    "changes[\"month\"]= newdate[1] \n",
    "  \n",
    "# making seperate column for day \n",
    "changes[\"day\"]= newdate[2] \n",
    "\n",
    "# df display \n",
    "#changes"
   ]
  },
  {
   "cell_type": "markdown",
   "metadata": {},
   "source": [
    "Split out time for hour, minute and second to support analysis (mainly for hour of the day)"
   ]
  },
  {
   "cell_type": "code",
   "execution_count": 268,
   "metadata": {
    "scrolled": false
   },
   "outputs": [],
   "source": [
    "# new data frame with split value columns \n",
    "newtime = changes[\"time\"].str.split(\":\", n = 3, expand = True) \n",
    "  \n",
    "# making seperate column for year \n",
    "changes[\"hour\"]= newtime[0] \n",
    "  \n",
    "# making seperate column for month\n",
    "changes[\"minute\"]= newtime[1] \n",
    "  \n",
    "# making seperate column for day \n",
    "changes[\"second\"]= newtime[2] \n",
    "\n",
    "# df display \n",
    "#changes"
   ]
  },
  {
   "cell_type": "markdown",
   "metadata": {},
   "source": [
    "Identify the day of the week that commits were made - to see if anyone was working weekends. "
   ]
  },
  {
   "cell_type": "code",
   "execution_count": 269,
   "metadata": {},
   "outputs": [],
   "source": [
    "changes['NewDate'] = pd.to_datetime(changes['date'], format='%Y-%m-%d %H:%M:%S')"
   ]
  },
  {
   "cell_type": "code",
   "execution_count": 270,
   "metadata": {},
   "outputs": [],
   "source": [
    "changes['weekday'] = changes['NewDate'].dt.weekday_name"
   ]
  },
  {
   "cell_type": "code",
   "execution_count": 271,
   "metadata": {},
   "outputs": [
    {
     "data": {
      "text/plain": [
       "revision                   object\n",
       "author                     object\n",
       "date                       object\n",
       "time                       object\n",
       "number_of_lines             int64\n",
       "comment                    object\n",
       "year                       object\n",
       "month                      object\n",
       "day                        object\n",
       "hour                       object\n",
       "minute                     object\n",
       "second                     object\n",
       "NewDate            datetime64[ns]\n",
       "weekday                    object\n",
       "dtype: object"
      ]
     },
     "execution_count": 271,
     "metadata": {},
     "output_type": "execute_result"
    }
   ],
   "source": [
    "changes.dtypes"
   ]
  },
  {
   "cell_type": "code",
   "execution_count": 272,
   "metadata": {},
   "outputs": [],
   "source": [
    "changes[['hour', 'minute', 'second']] = changes[['hour', 'minute', 'second']].apply(pd.to_numeric)"
   ]
  },
  {
   "cell_type": "markdown",
   "metadata": {},
   "source": [
    "Check how the table is looking"
   ]
  },
  {
   "cell_type": "code",
   "execution_count": 273,
   "metadata": {},
   "outputs": [
    {
     "data": {
      "text/html": [
       "<div>\n",
       "<style scoped>\n",
       "    .dataframe tbody tr th:only-of-type {\n",
       "        vertical-align: middle;\n",
       "    }\n",
       "\n",
       "    .dataframe tbody tr th {\n",
       "        vertical-align: top;\n",
       "    }\n",
       "\n",
       "    .dataframe thead th {\n",
       "        text-align: right;\n",
       "    }\n",
       "</style>\n",
       "<table border=\"1\" class=\"dataframe\">\n",
       "  <thead>\n",
       "    <tr style=\"text-align: right;\">\n",
       "      <th></th>\n",
       "      <th>revision</th>\n",
       "      <th>author</th>\n",
       "      <th>date</th>\n",
       "      <th>time</th>\n",
       "      <th>number_of_lines</th>\n",
       "      <th>comment</th>\n",
       "      <th>year</th>\n",
       "      <th>month</th>\n",
       "      <th>day</th>\n",
       "      <th>hour</th>\n",
       "      <th>minute</th>\n",
       "      <th>second</th>\n",
       "      <th>NewDate</th>\n",
       "      <th>weekday</th>\n",
       "    </tr>\n",
       "  </thead>\n",
       "  <tbody>\n",
       "    <tr>\n",
       "      <th>0</th>\n",
       "      <td>r1551925</td>\n",
       "      <td>Thomas</td>\n",
       "      <td>2015-11-27</td>\n",
       "      <td>16:57:44</td>\n",
       "      <td>1</td>\n",
       "      <td>Renamed folder to the correct name</td>\n",
       "      <td>2015</td>\n",
       "      <td>11</td>\n",
       "      <td>27</td>\n",
       "      <td>16</td>\n",
       "      <td>57</td>\n",
       "      <td>44</td>\n",
       "      <td>2015-11-27</td>\n",
       "      <td>Friday</td>\n",
       "    </tr>\n",
       "    <tr>\n",
       "      <th>1</th>\n",
       "      <td>r1551575</td>\n",
       "      <td>Thomas</td>\n",
       "      <td>2015-11-27</td>\n",
       "      <td>09:46:32</td>\n",
       "      <td>1</td>\n",
       "      <td>Removed unused webview.plan.management and web...</td>\n",
       "      <td>2015</td>\n",
       "      <td>11</td>\n",
       "      <td>27</td>\n",
       "      <td>9</td>\n",
       "      <td>46</td>\n",
       "      <td>32</td>\n",
       "      <td>2015-11-27</td>\n",
       "      <td>Friday</td>\n",
       "    </tr>\n",
       "    <tr>\n",
       "      <th>2</th>\n",
       "      <td>r1551569</td>\n",
       "      <td>Vincent</td>\n",
       "      <td>2015-11-27</td>\n",
       "      <td>09:38:09</td>\n",
       "      <td>1</td>\n",
       "      <td>enable all clients</td>\n",
       "      <td>2015</td>\n",
       "      <td>11</td>\n",
       "      <td>27</td>\n",
       "      <td>9</td>\n",
       "      <td>38</td>\n",
       "      <td>9</td>\n",
       "      <td>2015-11-27</td>\n",
       "      <td>Friday</td>\n",
       "    </tr>\n",
       "    <tr>\n",
       "      <th>3</th>\n",
       "      <td>r1551558</td>\n",
       "      <td>Thomas</td>\n",
       "      <td>2015-11-27</td>\n",
       "      <td>09:13:26</td>\n",
       "      <td>1</td>\n",
       "      <td>Chnaged jira url to htps</td>\n",
       "      <td>2015</td>\n",
       "      <td>11</td>\n",
       "      <td>27</td>\n",
       "      <td>9</td>\n",
       "      <td>13</td>\n",
       "      <td>26</td>\n",
       "      <td>2015-11-27</td>\n",
       "      <td>Friday</td>\n",
       "    </tr>\n",
       "    <tr>\n",
       "      <th>4</th>\n",
       "      <td>r1551504</td>\n",
       "      <td>UNKNOWN</td>\n",
       "      <td>2015-11-27</td>\n",
       "      <td>07:05:41</td>\n",
       "      <td>1</td>\n",
       "      <td>[gradle-release] prepare for next development ...</td>\n",
       "      <td>2015</td>\n",
       "      <td>11</td>\n",
       "      <td>27</td>\n",
       "      <td>7</td>\n",
       "      <td>5</td>\n",
       "      <td>41</td>\n",
       "      <td>2015-11-27</td>\n",
       "      <td>Friday</td>\n",
       "    </tr>\n",
       "    <tr>\n",
       "      <th>5</th>\n",
       "      <td>r1551486</td>\n",
       "      <td>Vincent</td>\n",
       "      <td>2015-11-27</td>\n",
       "      <td>06:10:10</td>\n",
       "      <td>1</td>\n",
       "      <td>SFR-108 : preparing release for SFR</td>\n",
       "      <td>2015</td>\n",
       "      <td>11</td>\n",
       "      <td>27</td>\n",
       "      <td>6</td>\n",
       "      <td>10</td>\n",
       "      <td>10</td>\n",
       "      <td>2015-11-27</td>\n",
       "      <td>Friday</td>\n",
       "    </tr>\n",
       "    <tr>\n",
       "      <th>6</th>\n",
       "      <td>r1551485</td>\n",
       "      <td>Vincent</td>\n",
       "      <td>2015-11-27</td>\n",
       "      <td>06:06:30</td>\n",
       "      <td>1</td>\n",
       "      <td>SFR-108 : 1.buddy sync removed from settings. ...</td>\n",
       "      <td>2015</td>\n",
       "      <td>11</td>\n",
       "      <td>27</td>\n",
       "      <td>6</td>\n",
       "      <td>6</td>\n",
       "      <td>30</td>\n",
       "      <td>2015-11-27</td>\n",
       "      <td>Friday</td>\n",
       "    </tr>\n",
       "    <tr>\n",
       "      <th>7</th>\n",
       "      <td>r1551375</td>\n",
       "      <td>Vincent</td>\n",
       "      <td>2015-11-26</td>\n",
       "      <td>15:01:51</td>\n",
       "      <td>1</td>\n",
       "      <td>SFR-108 : androidM related strings added.</td>\n",
       "      <td>2015</td>\n",
       "      <td>11</td>\n",
       "      <td>26</td>\n",
       "      <td>15</td>\n",
       "      <td>1</td>\n",
       "      <td>51</td>\n",
       "      <td>2015-11-26</td>\n",
       "      <td>Thursday</td>\n",
       "    </tr>\n",
       "    <tr>\n",
       "      <th>8</th>\n",
       "      <td>r1551347</td>\n",
       "      <td>Vincent</td>\n",
       "      <td>2015-11-26</td>\n",
       "      <td>14:35:32</td>\n",
       "      <td>1</td>\n",
       "      <td>SFR-108 : removed unnecessary layouts which we...</td>\n",
       "      <td>2015</td>\n",
       "      <td>11</td>\n",
       "      <td>26</td>\n",
       "      <td>14</td>\n",
       "      <td>35</td>\n",
       "      <td>32</td>\n",
       "      <td>2015-11-26</td>\n",
       "      <td>Thursday</td>\n",
       "    </tr>\n",
       "    <tr>\n",
       "      <th>9</th>\n",
       "      <td>r1551334</td>\n",
       "      <td>Vincent</td>\n",
       "      <td>2015-11-26</td>\n",
       "      <td>14:20:12</td>\n",
       "      <td>1</td>\n",
       "      <td>SFR-108 : using WL base &amp; snc urls</td>\n",
       "      <td>2015</td>\n",
       "      <td>11</td>\n",
       "      <td>26</td>\n",
       "      <td>14</td>\n",
       "      <td>20</td>\n",
       "      <td>12</td>\n",
       "      <td>2015-11-26</td>\n",
       "      <td>Thursday</td>\n",
       "    </tr>\n",
       "    <tr>\n",
       "      <th>10</th>\n",
       "      <td>r1551332</td>\n",
       "      <td>Vincent</td>\n",
       "      <td>2015-11-26</td>\n",
       "      <td>14:17:48</td>\n",
       "      <td>4</td>\n",
       "      <td>SFR-108 : Create bilingual French/English tran...</td>\n",
       "      <td>2015</td>\n",
       "      <td>11</td>\n",
       "      <td>26</td>\n",
       "      <td>14</td>\n",
       "      <td>17</td>\n",
       "      <td>48</td>\n",
       "      <td>2015-11-26</td>\n",
       "      <td>Thursday</td>\n",
       "    </tr>\n",
       "    <tr>\n",
       "      <th>11</th>\n",
       "      <td>r1551313</td>\n",
       "      <td>Vincent</td>\n",
       "      <td>2015-11-26</td>\n",
       "      <td>13:58:15</td>\n",
       "      <td>4</td>\n",
       "      <td>SFR-108 : Create bilingual French/English tran...</td>\n",
       "      <td>2015</td>\n",
       "      <td>11</td>\n",
       "      <td>26</td>\n",
       "      <td>13</td>\n",
       "      <td>58</td>\n",
       "      <td>15</td>\n",
       "      <td>2015-11-26</td>\n",
       "      <td>Thursday</td>\n",
       "    </tr>\n",
       "    <tr>\n",
       "      <th>12</th>\n",
       "      <td>r1551307</td>\n",
       "      <td>Thomas</td>\n",
       "      <td>2015-11-26</td>\n",
       "      <td>13:48:29</td>\n",
       "      <td>1</td>\n",
       "      <td>Removed AMX specific layouts.</td>\n",
       "      <td>2015</td>\n",
       "      <td>11</td>\n",
       "      <td>26</td>\n",
       "      <td>13</td>\n",
       "      <td>48</td>\n",
       "      <td>29</td>\n",
       "      <td>2015-11-26</td>\n",
       "      <td>Thursday</td>\n",
       "    </tr>\n",
       "    <tr>\n",
       "      <th>13</th>\n",
       "      <td>r1551294</td>\n",
       "      <td>Vincent</td>\n",
       "      <td>2015-11-26</td>\n",
       "      <td>13:30:16</td>\n",
       "      <td>4</td>\n",
       "      <td>SFR-108 : Help Foother can be configured by en...</td>\n",
       "      <td>2015</td>\n",
       "      <td>11</td>\n",
       "      <td>26</td>\n",
       "      <td>13</td>\n",
       "      <td>30</td>\n",
       "      <td>16</td>\n",
       "      <td>2015-11-26</td>\n",
       "      <td>Thursday</td>\n",
       "    </tr>\n",
       "    <tr>\n",
       "      <th>14</th>\n",
       "      <td>r1551249</td>\n",
       "      <td>Vincent</td>\n",
       "      <td>2015-11-26</td>\n",
       "      <td>12:16:06</td>\n",
       "      <td>5</td>\n",
       "      <td>SFR-108 : Create bilingual French/English tran...</td>\n",
       "      <td>2015</td>\n",
       "      <td>11</td>\n",
       "      <td>26</td>\n",
       "      <td>12</td>\n",
       "      <td>16</td>\n",
       "      <td>6</td>\n",
       "      <td>2015-11-26</td>\n",
       "      <td>Thursday</td>\n",
       "    </tr>\n",
       "    <tr>\n",
       "      <th>15</th>\n",
       "      <td>r1551248</td>\n",
       "      <td>Vincent</td>\n",
       "      <td>2015-11-26</td>\n",
       "      <td>12:15:26</td>\n",
       "      <td>5</td>\n",
       "      <td>SFR-108 : Create bilingual French/English tran...</td>\n",
       "      <td>2015</td>\n",
       "      <td>11</td>\n",
       "      <td>26</td>\n",
       "      <td>12</td>\n",
       "      <td>15</td>\n",
       "      <td>26</td>\n",
       "      <td>2015-11-26</td>\n",
       "      <td>Thursday</td>\n",
       "    </tr>\n",
       "    <tr>\n",
       "      <th>16</th>\n",
       "      <td>r1551105</td>\n",
       "      <td>Thomas</td>\n",
       "      <td>2015-11-26</td>\n",
       "      <td>09:17:08</td>\n",
       "      <td>1</td>\n",
       "      <td>FTRPC-393: Frontier - Still receiving push not...</td>\n",
       "      <td>2015</td>\n",
       "      <td>11</td>\n",
       "      <td>26</td>\n",
       "      <td>9</td>\n",
       "      <td>17</td>\n",
       "      <td>8</td>\n",
       "      <td>2015-11-26</td>\n",
       "      <td>Thursday</td>\n",
       "    </tr>\n",
       "    <tr>\n",
       "      <th>17</th>\n",
       "      <td>r1551061</td>\n",
       "      <td>Vincent</td>\n",
       "      <td>2015-11-26</td>\n",
       "      <td>07:33:33</td>\n",
       "      <td>3</td>\n",
       "      <td>SFR-108 : Create bilingual French/English tran...</td>\n",
       "      <td>2015</td>\n",
       "      <td>11</td>\n",
       "      <td>26</td>\n",
       "      <td>7</td>\n",
       "      <td>33</td>\n",
       "      <td>33</td>\n",
       "      <td>2015-11-26</td>\n",
       "      <td>Thursday</td>\n",
       "    </tr>\n",
       "    <tr>\n",
       "      <th>18</th>\n",
       "      <td>r1550863</td>\n",
       "      <td>Thomas</td>\n",
       "      <td>2015-11-25</td>\n",
       "      <td>16:42:06</td>\n",
       "      <td>1</td>\n",
       "      <td>Changed cloudsdkVersion to '1.0.22.10'</td>\n",
       "      <td>2015</td>\n",
       "      <td>11</td>\n",
       "      <td>25</td>\n",
       "      <td>16</td>\n",
       "      <td>42</td>\n",
       "      <td>6</td>\n",
       "      <td>2015-11-25</td>\n",
       "      <td>Wednesday</td>\n",
       "    </tr>\n",
       "    <tr>\n",
       "      <th>19</th>\n",
       "      <td>r1550724</td>\n",
       "      <td>Thomas</td>\n",
       "      <td>2015-11-25</td>\n",
       "      <td>14:17:42</td>\n",
       "      <td>1</td>\n",
       "      <td>Changed jira url to https</td>\n",
       "      <td>2015</td>\n",
       "      <td>11</td>\n",
       "      <td>25</td>\n",
       "      <td>14</td>\n",
       "      <td>17</td>\n",
       "      <td>42</td>\n",
       "      <td>2015-11-25</td>\n",
       "      <td>Wednesday</td>\n",
       "    </tr>\n",
       "    <tr>\n",
       "      <th>20</th>\n",
       "      <td>r1550591</td>\n",
       "      <td>Thomas</td>\n",
       "      <td>2015-11-25</td>\n",
       "      <td>11:29:15</td>\n",
       "      <td>3</td>\n",
       "      <td>Reverted back: FTRPC-500: Frontier Android || ...</td>\n",
       "      <td>2015</td>\n",
       "      <td>11</td>\n",
       "      <td>25</td>\n",
       "      <td>11</td>\n",
       "      <td>29</td>\n",
       "      <td>15</td>\n",
       "      <td>2015-11-25</td>\n",
       "      <td>Wednesday</td>\n",
       "    </tr>\n",
       "    <tr>\n",
       "      <th>21</th>\n",
       "      <td>r1550580</td>\n",
       "      <td>Thomas</td>\n",
       "      <td>2015-11-25</td>\n",
       "      <td>11:15:27</td>\n",
       "      <td>1</td>\n",
       "      <td>Updated splashscreen to re use grphc_pcloud_lo...</td>\n",
       "      <td>2015</td>\n",
       "      <td>11</td>\n",
       "      <td>25</td>\n",
       "      <td>11</td>\n",
       "      <td>15</td>\n",
       "      <td>27</td>\n",
       "      <td>2015-11-25</td>\n",
       "      <td>Wednesday</td>\n",
       "    </tr>\n",
       "    <tr>\n",
       "      <th>22</th>\n",
       "      <td>r1550503</td>\n",
       "      <td>Thomas</td>\n",
       "      <td>2015-11-25</td>\n",
       "      <td>09:26:22</td>\n",
       "      <td>1</td>\n",
       "      <td>Changed splash screen as requested</td>\n",
       "      <td>2015</td>\n",
       "      <td>11</td>\n",
       "      <td>25</td>\n",
       "      <td>9</td>\n",
       "      <td>26</td>\n",
       "      <td>22</td>\n",
       "      <td>2015-11-25</td>\n",
       "      <td>Wednesday</td>\n",
       "    </tr>\n",
       "    <tr>\n",
       "      <th>23</th>\n",
       "      <td>r1550097</td>\n",
       "      <td>Vincent</td>\n",
       "      <td>2015-11-24</td>\n",
       "      <td>14:41:53</td>\n",
       "      <td>3</td>\n",
       "      <td>SFR-108 : Create bilingual French/English tran...</td>\n",
       "      <td>2015</td>\n",
       "      <td>11</td>\n",
       "      <td>24</td>\n",
       "      <td>14</td>\n",
       "      <td>41</td>\n",
       "      <td>53</td>\n",
       "      <td>2015-11-24</td>\n",
       "      <td>Tuesday</td>\n",
       "    </tr>\n",
       "    <tr>\n",
       "      <th>24</th>\n",
       "      <td>r1550089</td>\n",
       "      <td>Thomas</td>\n",
       "      <td>2015-11-24</td>\n",
       "      <td>14:28:19</td>\n",
       "      <td>2</td>\n",
       "      <td>FTRPC-500: Frontier Android || Inconsistencey ...</td>\n",
       "      <td>2015</td>\n",
       "      <td>11</td>\n",
       "      <td>24</td>\n",
       "      <td>14</td>\n",
       "      <td>28</td>\n",
       "      <td>19</td>\n",
       "      <td>2015-11-24</td>\n",
       "      <td>Tuesday</td>\n",
       "    </tr>\n",
       "    <tr>\n",
       "      <th>25</th>\n",
       "      <td>r1550060</td>\n",
       "      <td>Vincent</td>\n",
       "      <td>2015-11-24</td>\n",
       "      <td>13:58:25</td>\n",
       "      <td>4</td>\n",
       "      <td>SFR-108 : Create bilingual French/English tran...</td>\n",
       "      <td>2015</td>\n",
       "      <td>11</td>\n",
       "      <td>24</td>\n",
       "      <td>13</td>\n",
       "      <td>58</td>\n",
       "      <td>25</td>\n",
       "      <td>2015-11-24</td>\n",
       "      <td>Tuesday</td>\n",
       "    </tr>\n",
       "    <tr>\n",
       "      <th>26</th>\n",
       "      <td>r1550046</td>\n",
       "      <td>Vincent</td>\n",
       "      <td>2015-11-24</td>\n",
       "      <td>13:42:26</td>\n",
       "      <td>4</td>\n",
       "      <td>SFR-108 : Create bilingual French/English tran...</td>\n",
       "      <td>2015</td>\n",
       "      <td>11</td>\n",
       "      <td>24</td>\n",
       "      <td>13</td>\n",
       "      <td>42</td>\n",
       "      <td>26</td>\n",
       "      <td>2015-11-24</td>\n",
       "      <td>Tuesday</td>\n",
       "    </tr>\n",
       "    <tr>\n",
       "      <th>27</th>\n",
       "      <td>r1549398</td>\n",
       "      <td>Thomas</td>\n",
       "      <td>2015-11-23</td>\n",
       "      <td>16:32:45</td>\n",
       "      <td>1</td>\n",
       "      <td>Updated jira port number to 8443</td>\n",
       "      <td>2015</td>\n",
       "      <td>11</td>\n",
       "      <td>23</td>\n",
       "      <td>16</td>\n",
       "      <td>32</td>\n",
       "      <td>45</td>\n",
       "      <td>2015-11-23</td>\n",
       "      <td>Monday</td>\n",
       "    </tr>\n",
       "    <tr>\n",
       "      <th>28</th>\n",
       "      <td>r1549355</td>\n",
       "      <td>UNKNOWN</td>\n",
       "      <td>2015-11-23</td>\n",
       "      <td>15:34:21</td>\n",
       "      <td>1</td>\n",
       "      <td>[gradle-release] prepare for next development ...</td>\n",
       "      <td>2015</td>\n",
       "      <td>11</td>\n",
       "      <td>23</td>\n",
       "      <td>15</td>\n",
       "      <td>34</td>\n",
       "      <td>21</td>\n",
       "      <td>2015-11-23</td>\n",
       "      <td>Monday</td>\n",
       "    </tr>\n",
       "    <tr>\n",
       "      <th>29</th>\n",
       "      <td>r1549331</td>\n",
       "      <td>Thomas</td>\n",
       "      <td>2015-11-23</td>\n",
       "      <td>15:20:49</td>\n",
       "      <td>1</td>\n",
       "      <td>FTRPC-497: Frontier Android || Difference in t...</td>\n",
       "      <td>2015</td>\n",
       "      <td>11</td>\n",
       "      <td>23</td>\n",
       "      <td>15</td>\n",
       "      <td>20</td>\n",
       "      <td>49</td>\n",
       "      <td>2015-11-23</td>\n",
       "      <td>Monday</td>\n",
       "    </tr>\n",
       "    <tr>\n",
       "      <th>...</th>\n",
       "      <td>...</td>\n",
       "      <td>...</td>\n",
       "      <td>...</td>\n",
       "      <td>...</td>\n",
       "      <td>...</td>\n",
       "      <td>...</td>\n",
       "      <td>...</td>\n",
       "      <td>...</td>\n",
       "      <td>...</td>\n",
       "      <td>...</td>\n",
       "      <td>...</td>\n",
       "      <td>...</td>\n",
       "      <td>...</td>\n",
       "      <td>...</td>\n",
       "    </tr>\n",
       "    <tr>\n",
       "      <th>392</th>\n",
       "      <td>r1492455</td>\n",
       "      <td>Jimmy</td>\n",
       "      <td>2015-07-15</td>\n",
       "      <td>15:00:04</td>\n",
       "      <td>1</td>\n",
       "      <td>Partial code cleanup</td>\n",
       "      <td>2015</td>\n",
       "      <td>07</td>\n",
       "      <td>15</td>\n",
       "      <td>15</td>\n",
       "      <td>0</td>\n",
       "      <td>4</td>\n",
       "      <td>2015-07-15</td>\n",
       "      <td>Wednesday</td>\n",
       "    </tr>\n",
       "    <tr>\n",
       "      <th>393</th>\n",
       "      <td>r1492414</td>\n",
       "      <td>Jimmy</td>\n",
       "      <td>2015-07-15</td>\n",
       "      <td>14:04:56</td>\n",
       "      <td>1</td>\n",
       "      <td>Revved</td>\n",
       "      <td>2015</td>\n",
       "      <td>07</td>\n",
       "      <td>15</td>\n",
       "      <td>14</td>\n",
       "      <td>4</td>\n",
       "      <td>56</td>\n",
       "      <td>2015-07-15</td>\n",
       "      <td>Wednesday</td>\n",
       "    </tr>\n",
       "    <tr>\n",
       "      <th>394</th>\n",
       "      <td>r1492409</td>\n",
       "      <td>Jimmy</td>\n",
       "      <td>2015-07-15</td>\n",
       "      <td>13:55:46</td>\n",
       "      <td>1</td>\n",
       "      <td>Added dev build variant</td>\n",
       "      <td>2015</td>\n",
       "      <td>07</td>\n",
       "      <td>15</td>\n",
       "      <td>13</td>\n",
       "      <td>55</td>\n",
       "      <td>46</td>\n",
       "      <td>2015-07-15</td>\n",
       "      <td>Wednesday</td>\n",
       "    </tr>\n",
       "    <tr>\n",
       "      <th>395</th>\n",
       "      <td>r1492405</td>\n",
       "      <td>UNKNOWN</td>\n",
       "      <td>2015-07-15</td>\n",
       "      <td>13:49:47</td>\n",
       "      <td>1</td>\n",
       "      <td>[gradle-release] prepare for next development ...</td>\n",
       "      <td>2015</td>\n",
       "      <td>07</td>\n",
       "      <td>15</td>\n",
       "      <td>13</td>\n",
       "      <td>49</td>\n",
       "      <td>47</td>\n",
       "      <td>2015-07-15</td>\n",
       "      <td>Wednesday</td>\n",
       "    </tr>\n",
       "    <tr>\n",
       "      <th>396</th>\n",
       "      <td>r1492402</td>\n",
       "      <td>Jimmy</td>\n",
       "      <td>2015-07-15</td>\n",
       "      <td>13:48:45</td>\n",
       "      <td>1</td>\n",
       "      <td>Modified mail template</td>\n",
       "      <td>2015</td>\n",
       "      <td>07</td>\n",
       "      <td>15</td>\n",
       "      <td>13</td>\n",
       "      <td>48</td>\n",
       "      <td>45</td>\n",
       "      <td>2015-07-15</td>\n",
       "      <td>Wednesday</td>\n",
       "    </tr>\n",
       "    <tr>\n",
       "      <th>397</th>\n",
       "      <td>r1492399</td>\n",
       "      <td>Jimmy</td>\n",
       "      <td>2015-07-15</td>\n",
       "      <td>13:42:17</td>\n",
       "      <td>1</td>\n",
       "      <td>Prep for release</td>\n",
       "      <td>2015</td>\n",
       "      <td>07</td>\n",
       "      <td>15</td>\n",
       "      <td>13</td>\n",
       "      <td>42</td>\n",
       "      <td>17</td>\n",
       "      <td>2015-07-15</td>\n",
       "      <td>Wednesday</td>\n",
       "    </tr>\n",
       "    <tr>\n",
       "      <th>398</th>\n",
       "      <td>r1492395</td>\n",
       "      <td>Jimmy</td>\n",
       "      <td>2015-07-15</td>\n",
       "      <td>13:30:01</td>\n",
       "      <td>1</td>\n",
       "      <td>Code cleanup</td>\n",
       "      <td>2015</td>\n",
       "      <td>07</td>\n",
       "      <td>15</td>\n",
       "      <td>13</td>\n",
       "      <td>30</td>\n",
       "      <td>1</td>\n",
       "      <td>2015-07-15</td>\n",
       "      <td>Wednesday</td>\n",
       "    </tr>\n",
       "    <tr>\n",
       "      <th>399</th>\n",
       "      <td>r1492330</td>\n",
       "      <td>Jimmy</td>\n",
       "      <td>2015-07-15</td>\n",
       "      <td>11:55:03</td>\n",
       "      <td>1</td>\n",
       "      <td>Plan management</td>\n",
       "      <td>2015</td>\n",
       "      <td>07</td>\n",
       "      <td>15</td>\n",
       "      <td>11</td>\n",
       "      <td>55</td>\n",
       "      <td>3</td>\n",
       "      <td>2015-07-15</td>\n",
       "      <td>Wednesday</td>\n",
       "    </tr>\n",
       "    <tr>\n",
       "      <th>400</th>\n",
       "      <td>r1492308</td>\n",
       "      <td>Jimmy</td>\n",
       "      <td>2015-07-15</td>\n",
       "      <td>11:33:28</td>\n",
       "      <td>1</td>\n",
       "      <td>Added boolean to upgrade</td>\n",
       "      <td>2015</td>\n",
       "      <td>07</td>\n",
       "      <td>15</td>\n",
       "      <td>11</td>\n",
       "      <td>33</td>\n",
       "      <td>28</td>\n",
       "      <td>2015-07-15</td>\n",
       "      <td>Wednesday</td>\n",
       "    </tr>\n",
       "    <tr>\n",
       "      <th>401</th>\n",
       "      <td>r1491912</td>\n",
       "      <td>Jimmy</td>\n",
       "      <td>2015-07-14</td>\n",
       "      <td>14:56:43</td>\n",
       "      <td>1</td>\n",
       "      <td>Partial code cleanup</td>\n",
       "      <td>2015</td>\n",
       "      <td>07</td>\n",
       "      <td>14</td>\n",
       "      <td>14</td>\n",
       "      <td>56</td>\n",
       "      <td>43</td>\n",
       "      <td>2015-07-14</td>\n",
       "      <td>Tuesday</td>\n",
       "    </tr>\n",
       "    <tr>\n",
       "      <th>402</th>\n",
       "      <td>r1491892</td>\n",
       "      <td>Jimmy</td>\n",
       "      <td>2015-07-14</td>\n",
       "      <td>14:40:44</td>\n",
       "      <td>1</td>\n",
       "      <td>Partial code cleanup</td>\n",
       "      <td>2015</td>\n",
       "      <td>07</td>\n",
       "      <td>14</td>\n",
       "      <td>14</td>\n",
       "      <td>40</td>\n",
       "      <td>44</td>\n",
       "      <td>2015-07-14</td>\n",
       "      <td>Tuesday</td>\n",
       "    </tr>\n",
       "    <tr>\n",
       "      <th>403</th>\n",
       "      <td>r1491875</td>\n",
       "      <td>Jimmy</td>\n",
       "      <td>2015-07-14</td>\n",
       "      <td>14:18:59</td>\n",
       "      <td>1</td>\n",
       "      <td>Partial code cleanup</td>\n",
       "      <td>2015</td>\n",
       "      <td>07</td>\n",
       "      <td>14</td>\n",
       "      <td>14</td>\n",
       "      <td>18</td>\n",
       "      <td>59</td>\n",
       "      <td>2015-07-14</td>\n",
       "      <td>Tuesday</td>\n",
       "    </tr>\n",
       "    <tr>\n",
       "      <th>404</th>\n",
       "      <td>r1491866</td>\n",
       "      <td>Jimmy</td>\n",
       "      <td>2015-07-14</td>\n",
       "      <td>14:06:22</td>\n",
       "      <td>1</td>\n",
       "      <td>Partial code clean</td>\n",
       "      <td>2015</td>\n",
       "      <td>07</td>\n",
       "      <td>14</td>\n",
       "      <td>14</td>\n",
       "      <td>6</td>\n",
       "      <td>22</td>\n",
       "      <td>2015-07-14</td>\n",
       "      <td>Tuesday</td>\n",
       "    </tr>\n",
       "    <tr>\n",
       "      <th>405</th>\n",
       "      <td>r1491858</td>\n",
       "      <td>Jimmy</td>\n",
       "      <td>2015-07-14</td>\n",
       "      <td>13:49:51</td>\n",
       "      <td>1</td>\n",
       "      <td>Removed dead code</td>\n",
       "      <td>2015</td>\n",
       "      <td>07</td>\n",
       "      <td>14</td>\n",
       "      <td>13</td>\n",
       "      <td>49</td>\n",
       "      <td>51</td>\n",
       "      <td>2015-07-14</td>\n",
       "      <td>Tuesday</td>\n",
       "    </tr>\n",
       "    <tr>\n",
       "      <th>406</th>\n",
       "      <td>r1491856</td>\n",
       "      <td>Jimmy</td>\n",
       "      <td>2015-07-14</td>\n",
       "      <td>13:42:45</td>\n",
       "      <td>1</td>\n",
       "      <td>modified chsettings content provider for at&amp;t</td>\n",
       "      <td>2015</td>\n",
       "      <td>07</td>\n",
       "      <td>14</td>\n",
       "      <td>13</td>\n",
       "      <td>42</td>\n",
       "      <td>45</td>\n",
       "      <td>2015-07-14</td>\n",
       "      <td>Tuesday</td>\n",
       "    </tr>\n",
       "    <tr>\n",
       "      <th>407</th>\n",
       "      <td>r1491802</td>\n",
       "      <td>Jimmy</td>\n",
       "      <td>2015-07-14</td>\n",
       "      <td>12:25:40</td>\n",
       "      <td>1</td>\n",
       "      <td>Authentication for locker</td>\n",
       "      <td>2015</td>\n",
       "      <td>07</td>\n",
       "      <td>14</td>\n",
       "      <td>12</td>\n",
       "      <td>25</td>\n",
       "      <td>40</td>\n",
       "      <td>2015-07-14</td>\n",
       "      <td>Tuesday</td>\n",
       "    </tr>\n",
       "    <tr>\n",
       "      <th>408</th>\n",
       "      <td>r1491445</td>\n",
       "      <td>Thomas</td>\n",
       "      <td>2015-07-13</td>\n",
       "      <td>16:29:13</td>\n",
       "      <td>1</td>\n",
       "      <td>Removed Ril classes</td>\n",
       "      <td>2015</td>\n",
       "      <td>07</td>\n",
       "      <td>13</td>\n",
       "      <td>16</td>\n",
       "      <td>29</td>\n",
       "      <td>13</td>\n",
       "      <td>2015-07-13</td>\n",
       "      <td>Monday</td>\n",
       "    </tr>\n",
       "    <tr>\n",
       "      <th>409</th>\n",
       "      <td>r1491442</td>\n",
       "      <td>Thomas</td>\n",
       "      <td>2015-07-13</td>\n",
       "      <td>16:22:25</td>\n",
       "      <td>1</td>\n",
       "      <td>Removed Ril classes</td>\n",
       "      <td>2015</td>\n",
       "      <td>07</td>\n",
       "      <td>13</td>\n",
       "      <td>16</td>\n",
       "      <td>22</td>\n",
       "      <td>25</td>\n",
       "      <td>2015-07-13</td>\n",
       "      <td>Monday</td>\n",
       "    </tr>\n",
       "    <tr>\n",
       "      <th>410</th>\n",
       "      <td>r1491435</td>\n",
       "      <td>Thomas</td>\n",
       "      <td>2015-07-13</td>\n",
       "      <td>16:17:26</td>\n",
       "      <td>1</td>\n",
       "      <td>Correct url and tag name for branch tagging</td>\n",
       "      <td>2015</td>\n",
       "      <td>07</td>\n",
       "      <td>13</td>\n",
       "      <td>16</td>\n",
       "      <td>17</td>\n",
       "      <td>26</td>\n",
       "      <td>2015-07-13</td>\n",
       "      <td>Monday</td>\n",
       "    </tr>\n",
       "    <tr>\n",
       "      <th>411</th>\n",
       "      <td>r1491428</td>\n",
       "      <td>Thomas</td>\n",
       "      <td>2015-07-13</td>\n",
       "      <td>16:12:14</td>\n",
       "      <td>1</td>\n",
       "      <td>Use 15.2.30.x versioning scheme for branch</td>\n",
       "      <td>2015</td>\n",
       "      <td>07</td>\n",
       "      <td>13</td>\n",
       "      <td>16</td>\n",
       "      <td>12</td>\n",
       "      <td>14</td>\n",
       "      <td>2015-07-13</td>\n",
       "      <td>Monday</td>\n",
       "    </tr>\n",
       "    <tr>\n",
       "      <th>412</th>\n",
       "      <td>r1491425</td>\n",
       "      <td>Thomas</td>\n",
       "      <td>2015-07-13</td>\n",
       "      <td>16:08:55</td>\n",
       "      <td>1</td>\n",
       "      <td>Removed old TV functionality</td>\n",
       "      <td>2015</td>\n",
       "      <td>07</td>\n",
       "      <td>13</td>\n",
       "      <td>16</td>\n",
       "      <td>8</td>\n",
       "      <td>55</td>\n",
       "      <td>2015-07-13</td>\n",
       "      <td>Monday</td>\n",
       "    </tr>\n",
       "    <tr>\n",
       "      <th>413</th>\n",
       "      <td>r1491421</td>\n",
       "      <td>Thomas</td>\n",
       "      <td>2015-07-13</td>\n",
       "      <td>16:03:32</td>\n",
       "      <td>1</td>\n",
       "      <td>Removed old TV functionality</td>\n",
       "      <td>2015</td>\n",
       "      <td>07</td>\n",
       "      <td>13</td>\n",
       "      <td>16</td>\n",
       "      <td>3</td>\n",
       "      <td>32</td>\n",
       "      <td>2015-07-13</td>\n",
       "      <td>Monday</td>\n",
       "    </tr>\n",
       "    <tr>\n",
       "      <th>414</th>\n",
       "      <td>r1491420</td>\n",
       "      <td>Thomas</td>\n",
       "      <td>2015-07-13</td>\n",
       "      <td>16:00:35</td>\n",
       "      <td>1</td>\n",
       "      <td>Removed old TV functionality</td>\n",
       "      <td>2015</td>\n",
       "      <td>07</td>\n",
       "      <td>13</td>\n",
       "      <td>16</td>\n",
       "      <td>0</td>\n",
       "      <td>35</td>\n",
       "      <td>2015-07-13</td>\n",
       "      <td>Monday</td>\n",
       "    </tr>\n",
       "    <tr>\n",
       "      <th>415</th>\n",
       "      <td>r1491333</td>\n",
       "      <td>Jimmy</td>\n",
       "      <td>2015-07-13</td>\n",
       "      <td>13:59:14</td>\n",
       "      <td>1</td>\n",
       "      <td>directed the auth callback to point at the Atp...</td>\n",
       "      <td>2015</td>\n",
       "      <td>07</td>\n",
       "      <td>13</td>\n",
       "      <td>13</td>\n",
       "      <td>59</td>\n",
       "      <td>14</td>\n",
       "      <td>2015-07-13</td>\n",
       "      <td>Monday</td>\n",
       "    </tr>\n",
       "    <tr>\n",
       "      <th>416</th>\n",
       "      <td>r1491323</td>\n",
       "      <td>Jimmy</td>\n",
       "      <td>2015-07-13</td>\n",
       "      <td>13:48:50</td>\n",
       "      <td>1</td>\n",
       "      <td>Added application identifier to auth call</td>\n",
       "      <td>2015</td>\n",
       "      <td>07</td>\n",
       "      <td>13</td>\n",
       "      <td>13</td>\n",
       "      <td>48</td>\n",
       "      <td>50</td>\n",
       "      <td>2015-07-13</td>\n",
       "      <td>Monday</td>\n",
       "    </tr>\n",
       "    <tr>\n",
       "      <th>417</th>\n",
       "      <td>r1491315</td>\n",
       "      <td>Jimmy</td>\n",
       "      <td>2015-07-13</td>\n",
       "      <td>13:06:21</td>\n",
       "      <td>1</td>\n",
       "      <td>Added web UI for auth</td>\n",
       "      <td>2015</td>\n",
       "      <td>07</td>\n",
       "      <td>13</td>\n",
       "      <td>13</td>\n",
       "      <td>6</td>\n",
       "      <td>21</td>\n",
       "      <td>2015-07-13</td>\n",
       "      <td>Monday</td>\n",
       "    </tr>\n",
       "    <tr>\n",
       "      <th>418</th>\n",
       "      <td>r1491272</td>\n",
       "      <td>Thomas</td>\n",
       "      <td>2015-07-13</td>\n",
       "      <td>11:52:09</td>\n",
       "      <td>1</td>\n",
       "      <td>Added ignorance</td>\n",
       "      <td>2015</td>\n",
       "      <td>07</td>\n",
       "      <td>13</td>\n",
       "      <td>11</td>\n",
       "      <td>52</td>\n",
       "      <td>9</td>\n",
       "      <td>2015-07-13</td>\n",
       "      <td>Monday</td>\n",
       "    </tr>\n",
       "    <tr>\n",
       "      <th>419</th>\n",
       "      <td>r1491254</td>\n",
       "      <td>Alan</td>\n",
       "      <td>2015-07-13</td>\n",
       "      <td>11:32:02</td>\n",
       "      <td>1</td>\n",
       "      <td>icon renamed as ic_launcher.png</td>\n",
       "      <td>2015</td>\n",
       "      <td>07</td>\n",
       "      <td>13</td>\n",
       "      <td>11</td>\n",
       "      <td>32</td>\n",
       "      <td>2</td>\n",
       "      <td>2015-07-13</td>\n",
       "      <td>Monday</td>\n",
       "    </tr>\n",
       "    <tr>\n",
       "      <th>420</th>\n",
       "      <td>r1491229</td>\n",
       "      <td>Jimmy</td>\n",
       "      <td>2015-07-13</td>\n",
       "      <td>11:03:48</td>\n",
       "      <td>1</td>\n",
       "      <td>Added configuration for web auth</td>\n",
       "      <td>2015</td>\n",
       "      <td>07</td>\n",
       "      <td>13</td>\n",
       "      <td>11</td>\n",
       "      <td>3</td>\n",
       "      <td>48</td>\n",
       "      <td>2015-07-13</td>\n",
       "      <td>Monday</td>\n",
       "    </tr>\n",
       "    <tr>\n",
       "      <th>421</th>\n",
       "      <td>r1491146</td>\n",
       "      <td>Thomas</td>\n",
       "      <td>2015-07-13</td>\n",
       "      <td>09:21:48</td>\n",
       "      <td>1</td>\n",
       "      <td>Rename folder</td>\n",
       "      <td>2015</td>\n",
       "      <td>07</td>\n",
       "      <td>13</td>\n",
       "      <td>9</td>\n",
       "      <td>21</td>\n",
       "      <td>48</td>\n",
       "      <td>2015-07-13</td>\n",
       "      <td>Monday</td>\n",
       "    </tr>\n",
       "  </tbody>\n",
       "</table>\n",
       "<p>422 rows × 14 columns</p>\n",
       "</div>"
      ],
      "text/plain": [
       "     revision   author        date      time  number_of_lines  \\\n",
       "0    r1551925   Thomas  2015-11-27  16:57:44                1   \n",
       "1    r1551575   Thomas  2015-11-27  09:46:32                1   \n",
       "2    r1551569  Vincent  2015-11-27  09:38:09                1   \n",
       "3    r1551558   Thomas  2015-11-27  09:13:26                1   \n",
       "4    r1551504  UNKNOWN  2015-11-27  07:05:41                1   \n",
       "5    r1551486  Vincent  2015-11-27  06:10:10                1   \n",
       "6    r1551485  Vincent  2015-11-27  06:06:30                1   \n",
       "7    r1551375  Vincent  2015-11-26  15:01:51                1   \n",
       "8    r1551347  Vincent  2015-11-26  14:35:32                1   \n",
       "9    r1551334  Vincent  2015-11-26  14:20:12                1   \n",
       "10   r1551332  Vincent  2015-11-26  14:17:48                4   \n",
       "11   r1551313  Vincent  2015-11-26  13:58:15                4   \n",
       "12   r1551307   Thomas  2015-11-26  13:48:29                1   \n",
       "13   r1551294  Vincent  2015-11-26  13:30:16                4   \n",
       "14   r1551249  Vincent  2015-11-26  12:16:06                5   \n",
       "15   r1551248  Vincent  2015-11-26  12:15:26                5   \n",
       "16   r1551105   Thomas  2015-11-26  09:17:08                1   \n",
       "17   r1551061  Vincent  2015-11-26  07:33:33                3   \n",
       "18   r1550863   Thomas  2015-11-25  16:42:06                1   \n",
       "19   r1550724   Thomas  2015-11-25  14:17:42                1   \n",
       "20   r1550591   Thomas  2015-11-25  11:29:15                3   \n",
       "21   r1550580   Thomas  2015-11-25  11:15:27                1   \n",
       "22   r1550503   Thomas  2015-11-25  09:26:22                1   \n",
       "23   r1550097  Vincent  2015-11-24  14:41:53                3   \n",
       "24   r1550089   Thomas  2015-11-24  14:28:19                2   \n",
       "25   r1550060  Vincent  2015-11-24  13:58:25                4   \n",
       "26   r1550046  Vincent  2015-11-24  13:42:26                4   \n",
       "27   r1549398   Thomas  2015-11-23  16:32:45                1   \n",
       "28   r1549355  UNKNOWN  2015-11-23  15:34:21                1   \n",
       "29   r1549331   Thomas  2015-11-23  15:20:49                1   \n",
       "..        ...      ...         ...       ...              ...   \n",
       "392  r1492455    Jimmy  2015-07-15  15:00:04                1   \n",
       "393  r1492414    Jimmy  2015-07-15  14:04:56                1   \n",
       "394  r1492409    Jimmy  2015-07-15  13:55:46                1   \n",
       "395  r1492405  UNKNOWN  2015-07-15  13:49:47                1   \n",
       "396  r1492402    Jimmy  2015-07-15  13:48:45                1   \n",
       "397  r1492399    Jimmy  2015-07-15  13:42:17                1   \n",
       "398  r1492395    Jimmy  2015-07-15  13:30:01                1   \n",
       "399  r1492330    Jimmy  2015-07-15  11:55:03                1   \n",
       "400  r1492308    Jimmy  2015-07-15  11:33:28                1   \n",
       "401  r1491912    Jimmy  2015-07-14  14:56:43                1   \n",
       "402  r1491892    Jimmy  2015-07-14  14:40:44                1   \n",
       "403  r1491875    Jimmy  2015-07-14  14:18:59                1   \n",
       "404  r1491866    Jimmy  2015-07-14  14:06:22                1   \n",
       "405  r1491858    Jimmy  2015-07-14  13:49:51                1   \n",
       "406  r1491856    Jimmy  2015-07-14  13:42:45                1   \n",
       "407  r1491802    Jimmy  2015-07-14  12:25:40                1   \n",
       "408  r1491445   Thomas  2015-07-13  16:29:13                1   \n",
       "409  r1491442   Thomas  2015-07-13  16:22:25                1   \n",
       "410  r1491435   Thomas  2015-07-13  16:17:26                1   \n",
       "411  r1491428   Thomas  2015-07-13  16:12:14                1   \n",
       "412  r1491425   Thomas  2015-07-13  16:08:55                1   \n",
       "413  r1491421   Thomas  2015-07-13  16:03:32                1   \n",
       "414  r1491420   Thomas  2015-07-13  16:00:35                1   \n",
       "415  r1491333    Jimmy  2015-07-13  13:59:14                1   \n",
       "416  r1491323    Jimmy  2015-07-13  13:48:50                1   \n",
       "417  r1491315    Jimmy  2015-07-13  13:06:21                1   \n",
       "418  r1491272   Thomas  2015-07-13  11:52:09                1   \n",
       "419  r1491254     Alan  2015-07-13  11:32:02                1   \n",
       "420  r1491229    Jimmy  2015-07-13  11:03:48                1   \n",
       "421  r1491146   Thomas  2015-07-13  09:21:48                1   \n",
       "\n",
       "                                               comment  year month day  hour  \\\n",
       "0                   Renamed folder to the correct name  2015    11  27    16   \n",
       "1    Removed unused webview.plan.management and web...  2015    11  27     9   \n",
       "2                                   enable all clients  2015    11  27     9   \n",
       "3                             Chnaged jira url to htps  2015    11  27     9   \n",
       "4    [gradle-release] prepare for next development ...  2015    11  27     7   \n",
       "5                  SFR-108 : preparing release for SFR  2015    11  27     6   \n",
       "6    SFR-108 : 1.buddy sync removed from settings. ...  2015    11  27     6   \n",
       "7            SFR-108 : androidM related strings added.  2015    11  26    15   \n",
       "8    SFR-108 : removed unnecessary layouts which we...  2015    11  26    14   \n",
       "9                   SFR-108 : using WL base & snc urls  2015    11  26    14   \n",
       "10   SFR-108 : Create bilingual French/English tran...  2015    11  26    14   \n",
       "11   SFR-108 : Create bilingual French/English tran...  2015    11  26    13   \n",
       "12                       Removed AMX specific layouts.  2015    11  26    13   \n",
       "13   SFR-108 : Help Foother can be configured by en...  2015    11  26    13   \n",
       "14   SFR-108 : Create bilingual French/English tran...  2015    11  26    12   \n",
       "15   SFR-108 : Create bilingual French/English tran...  2015    11  26    12   \n",
       "16   FTRPC-393: Frontier - Still receiving push not...  2015    11  26     9   \n",
       "17   SFR-108 : Create bilingual French/English tran...  2015    11  26     7   \n",
       "18              Changed cloudsdkVersion to '1.0.22.10'  2015    11  25    16   \n",
       "19                           Changed jira url to https  2015    11  25    14   \n",
       "20   Reverted back: FTRPC-500: Frontier Android || ...  2015    11  25    11   \n",
       "21   Updated splashscreen to re use grphc_pcloud_lo...  2015    11  25    11   \n",
       "22                  Changed splash screen as requested  2015    11  25     9   \n",
       "23   SFR-108 : Create bilingual French/English tran...  2015    11  24    14   \n",
       "24   FTRPC-500: Frontier Android || Inconsistencey ...  2015    11  24    14   \n",
       "25   SFR-108 : Create bilingual French/English tran...  2015    11  24    13   \n",
       "26   SFR-108 : Create bilingual French/English tran...  2015    11  24    13   \n",
       "27                    Updated jira port number to 8443  2015    11  23    16   \n",
       "28   [gradle-release] prepare for next development ...  2015    11  23    15   \n",
       "29   FTRPC-497: Frontier Android || Difference in t...  2015    11  23    15   \n",
       "..                                                 ...   ...   ...  ..   ...   \n",
       "392                               Partial code cleanup  2015    07  15    15   \n",
       "393                                             Revved  2015    07  15    14   \n",
       "394                            Added dev build variant  2015    07  15    13   \n",
       "395  [gradle-release] prepare for next development ...  2015    07  15    13   \n",
       "396                             Modified mail template  2015    07  15    13   \n",
       "397                                   Prep for release  2015    07  15    13   \n",
       "398                                       Code cleanup  2015    07  15    13   \n",
       "399                                    Plan management  2015    07  15    11   \n",
       "400                           Added boolean to upgrade  2015    07  15    11   \n",
       "401                               Partial code cleanup  2015    07  14    14   \n",
       "402                               Partial code cleanup  2015    07  14    14   \n",
       "403                               Partial code cleanup  2015    07  14    14   \n",
       "404                                 Partial code clean  2015    07  14    14   \n",
       "405                                  Removed dead code  2015    07  14    13   \n",
       "406      modified chsettings content provider for at&t  2015    07  14    13   \n",
       "407                          Authentication for locker  2015    07  14    12   \n",
       "408                                Removed Ril classes  2015    07  13    16   \n",
       "409                                Removed Ril classes  2015    07  13    16   \n",
       "410        Correct url and tag name for branch tagging  2015    07  13    16   \n",
       "411         Use 15.2.30.x versioning scheme for branch  2015    07  13    16   \n",
       "412                       Removed old TV functionality  2015    07  13    16   \n",
       "413                       Removed old TV functionality  2015    07  13    16   \n",
       "414                       Removed old TV functionality  2015    07  13    16   \n",
       "415  directed the auth callback to point at the Atp...  2015    07  13    13   \n",
       "416          Added application identifier to auth call  2015    07  13    13   \n",
       "417                              Added web UI for auth  2015    07  13    13   \n",
       "418                                    Added ignorance  2015    07  13    11   \n",
       "419                    icon renamed as ic_launcher.png  2015    07  13    11   \n",
       "420                   Added configuration for web auth  2015    07  13    11   \n",
       "421                                      Rename folder  2015    07  13     9   \n",
       "\n",
       "     minute  second    NewDate    weekday  \n",
       "0        57      44 2015-11-27     Friday  \n",
       "1        46      32 2015-11-27     Friday  \n",
       "2        38       9 2015-11-27     Friday  \n",
       "3        13      26 2015-11-27     Friday  \n",
       "4         5      41 2015-11-27     Friday  \n",
       "5        10      10 2015-11-27     Friday  \n",
       "6         6      30 2015-11-27     Friday  \n",
       "7         1      51 2015-11-26   Thursday  \n",
       "8        35      32 2015-11-26   Thursday  \n",
       "9        20      12 2015-11-26   Thursday  \n",
       "10       17      48 2015-11-26   Thursday  \n",
       "11       58      15 2015-11-26   Thursday  \n",
       "12       48      29 2015-11-26   Thursday  \n",
       "13       30      16 2015-11-26   Thursday  \n",
       "14       16       6 2015-11-26   Thursday  \n",
       "15       15      26 2015-11-26   Thursday  \n",
       "16       17       8 2015-11-26   Thursday  \n",
       "17       33      33 2015-11-26   Thursday  \n",
       "18       42       6 2015-11-25  Wednesday  \n",
       "19       17      42 2015-11-25  Wednesday  \n",
       "20       29      15 2015-11-25  Wednesday  \n",
       "21       15      27 2015-11-25  Wednesday  \n",
       "22       26      22 2015-11-25  Wednesday  \n",
       "23       41      53 2015-11-24    Tuesday  \n",
       "24       28      19 2015-11-24    Tuesday  \n",
       "25       58      25 2015-11-24    Tuesday  \n",
       "26       42      26 2015-11-24    Tuesday  \n",
       "27       32      45 2015-11-23     Monday  \n",
       "28       34      21 2015-11-23     Monday  \n",
       "29       20      49 2015-11-23     Monday  \n",
       "..      ...     ...        ...        ...  \n",
       "392       0       4 2015-07-15  Wednesday  \n",
       "393       4      56 2015-07-15  Wednesday  \n",
       "394      55      46 2015-07-15  Wednesday  \n",
       "395      49      47 2015-07-15  Wednesday  \n",
       "396      48      45 2015-07-15  Wednesday  \n",
       "397      42      17 2015-07-15  Wednesday  \n",
       "398      30       1 2015-07-15  Wednesday  \n",
       "399      55       3 2015-07-15  Wednesday  \n",
       "400      33      28 2015-07-15  Wednesday  \n",
       "401      56      43 2015-07-14    Tuesday  \n",
       "402      40      44 2015-07-14    Tuesday  \n",
       "403      18      59 2015-07-14    Tuesday  \n",
       "404       6      22 2015-07-14    Tuesday  \n",
       "405      49      51 2015-07-14    Tuesday  \n",
       "406      42      45 2015-07-14    Tuesday  \n",
       "407      25      40 2015-07-14    Tuesday  \n",
       "408      29      13 2015-07-13     Monday  \n",
       "409      22      25 2015-07-13     Monday  \n",
       "410      17      26 2015-07-13     Monday  \n",
       "411      12      14 2015-07-13     Monday  \n",
       "412       8      55 2015-07-13     Monday  \n",
       "413       3      32 2015-07-13     Monday  \n",
       "414       0      35 2015-07-13     Monday  \n",
       "415      59      14 2015-07-13     Monday  \n",
       "416      48      50 2015-07-13     Monday  \n",
       "417       6      21 2015-07-13     Monday  \n",
       "418      52       9 2015-07-13     Monday  \n",
       "419      32       2 2015-07-13     Monday  \n",
       "420       3      48 2015-07-13     Monday  \n",
       "421      21      48 2015-07-13     Monday  \n",
       "\n",
       "[422 rows x 14 columns]"
      ]
     },
     "execution_count": 273,
     "metadata": {},
     "output_type": "execute_result"
    }
   ],
   "source": [
    "changes"
   ]
  },
  {
   "cell_type": "markdown",
   "metadata": {},
   "source": [
    "# Step 3 - Get Insights"
   ]
  },
  {
   "cell_type": "markdown",
   "metadata": {},
   "source": [
    "1. Check the mean number of lines per comment across all authors "
   ]
  },
  {
   "cell_type": "code",
   "execution_count": 274,
   "metadata": {},
   "outputs": [
    {
     "data": {
      "text/plain": [
       "1.3151658767772512"
      ]
     },
     "execution_count": 274,
     "metadata": {},
     "output_type": "execute_result"
    }
   ],
   "source": [
    "changes['number_of_lines'].mean()"
   ]
  },
  {
   "cell_type": "markdown",
   "metadata": {},
   "source": [
    " "
   ]
  },
  {
   "cell_type": "markdown",
   "metadata": {},
   "source": [
    "2. Identify the total number of revisions made by each author during the period in question, and represent it graphically:\n",
    " - Bar chart\n",
    " - Pie Chart"
   ]
  },
  {
   "cell_type": "code",
   "execution_count": 275,
   "metadata": {},
   "outputs": [],
   "source": [
    "rev_auth = changes['author'].value_counts()"
   ]
  },
  {
   "cell_type": "code",
   "execution_count": 276,
   "metadata": {},
   "outputs": [
    {
     "data": {
      "text/plain": [
       "[Text(0,0.5,'No. of Revisions'), Text(0.5,0,'Authors')]"
      ]
     },
     "execution_count": 276,
     "metadata": {},
     "output_type": "execute_result"
    },
    {
     "data": {
      "image/png": "[encoded data removed]",
      "text/plain": [
       "<Figure size 432x288 with 1 Axes>"
      ]
     },
     "metadata": {
      "needs_background": "light"
     },
     "output_type": "display_data"
    }
   ],
   "source": [
    "rev_auth.plot(kind = 'bar', title = 'Number of Revisions by Author', rot = 45, ).set(xlabel = 'Authors', ylabel = 'No. of Revisions')"
   ]
  },
  {
   "cell_type": "code",
   "execution_count": 277,
   "metadata": {},
   "outputs": [
    {
     "data": {
      "text/plain": [
       "[Text(0,0.5,''), Text(0.5,0,'')]"
      ]
     },
     "execution_count": 277,
     "metadata": {},
     "output_type": "execute_result"
    },
    {
     "data": {
      "image/png": "[encoded data removed]",
      "text/plain": [
       "<Figure size 432x432 with 1 Axes>"
      ]
     },
     "metadata": {},
     "output_type": "display_data"
    }
   ],
   "source": [
    "rev_auth.plot(kind = 'pie', figsize=(6, 6), title = 'Number of Revisions by Author', rot = 45, ).set(xlabel = '', ylabel = '', )"
   ]
  },
  {
   "cell_type": "markdown",
   "metadata": {},
   "source": [
    " "
   ]
  },
  {
   "cell_type": "markdown",
   "metadata": {},
   "source": [
    "3. Identify the number of revisions made each month to understand peak and tough activity, and represent it graphically:\n",
    " - Bar chart\n",
    " - Pie Chart\n",
    " - Line Graph"
   ]
  },
  {
   "cell_type": "code",
   "execution_count": 278,
   "metadata": {},
   "outputs": [
    {
     "data": {
      "text/plain": [
       "month\n",
       "07    102\n",
       "08     83\n",
       "09     44\n",
       "10     97\n",
       "11     96\n",
       "Name: revision, dtype: int64"
      ]
     },
     "execution_count": 278,
     "metadata": {},
     "output_type": "execute_result"
    }
   ],
   "source": [
    "rev_month = changes.groupby([\"month\"]).count()[\"revision\"]\n",
    "rev_month"
   ]
  },
  {
   "cell_type": "code",
   "execution_count": 279,
   "metadata": {},
   "outputs": [
    {
     "data": {
      "text/plain": [
       "[Text(0,0.5,'No. of Revisions'), Text(0.5,0,'Month')]"
      ]
     },
     "execution_count": 279,
     "metadata": {},
     "output_type": "execute_result"
    },
    {
     "data": {
      "image/png": "[encoded data removed]",
      "text/plain": [
       "<Figure size 432x288 with 1 Axes>"
      ]
     },
     "metadata": {
      "needs_background": "light"
     },
     "output_type": "display_data"
    }
   ],
   "source": [
    "rev_month.plot(kind = 'bar', title = 'Number of Revisions by Month', rot = 45, ).set(xlabel = 'Month', ylabel = 'No. of Revisions')"
   ]
  },
  {
   "cell_type": "code",
   "execution_count": 280,
   "metadata": {},
   "outputs": [
    {
     "data": {
      "text/plain": [
       "[Text(0,0.5,'No. of Revisions'), Text(0.5,0,'Month')]"
      ]
     },
     "execution_count": 280,
     "metadata": {},
     "output_type": "execute_result"
    },
    {
     "data": {
      "image/png": "[encoded data removed]",
      "text/plain": [
       "<Figure size 432x432 with 1 Axes>"
      ]
     },
     "metadata": {},
     "output_type": "display_data"
    }
   ],
   "source": [
    "rev_month.plot(kind = 'pie', figsize=(6, 6), title = 'Number of Revisions by Month', rot = 45, ).set(xlabel = 'Month', ylabel = 'No. of Revisions')"
   ]
  },
  {
   "cell_type": "code",
   "execution_count": 281,
   "metadata": {},
   "outputs": [
    {
     "data": {
      "text/plain": [
       "<matplotlib.axes._subplots.AxesSubplot at 0xec1f4a8>"
      ]
     },
     "execution_count": 281,
     "metadata": {},
     "output_type": "execute_result"
    },
    {
     "data": {
      "image/png": "[encoded data removed]",
      "text/plain": [
       "<Figure size 432x432 with 1 Axes>"
      ]
     },
     "metadata": {
      "needs_background": "light"
     },
     "output_type": "display_data"
    }
   ],
   "source": [
    "rev_month.plot(table=True, figsize=(6, 6), yticks=(np.arange(0, 140, step=10)))"
   ]
  },
  {
   "cell_type": "markdown",
   "metadata": {},
   "source": [
    " "
   ]
  },
  {
   "cell_type": "markdown",
   "metadata": {},
   "source": [
    "4. Identify the hour of the day that commits are made and represent it graphically \n",
    " - Line Graph\n",
    " - Scatter Plot"
   ]
  },
  {
   "cell_type": "code",
   "execution_count": 282,
   "metadata": {},
   "outputs": [
    {
     "data": {
      "text/plain": [
       "hour\n",
       "5      1\n",
       "6      3\n",
       "7      2\n",
       "8     12\n",
       "9     33\n",
       "10    30\n",
       "11    57\n",
       "12    31\n",
       "13    56\n",
       "14    96\n",
       "15    52\n",
       "16    39\n",
       "17     4\n",
       "18     2\n",
       "19     1\n",
       "20     3\n",
       "Name: revision, dtype: int64"
      ]
     },
     "execution_count": 282,
     "metadata": {},
     "output_type": "execute_result"
    }
   ],
   "source": [
    "rev_time = changes.groupby([\"hour\"]).count()[\"revision\"]\n",
    "rev_time"
   ]
  },
  {
   "cell_type": "code",
   "execution_count": 283,
   "metadata": {},
   "outputs": [
    {
     "data": {
      "text/plain": [
       "<matplotlib.axes._subplots.AxesSubplot at 0xcceae80>"
      ]
     },
     "execution_count": 283,
     "metadata": {},
     "output_type": "execute_result"
    },
    {
     "data": {
      "image/png": "[encoded data removed]",
      "text/plain": [
       "<Figure size 432x432 with 1 Axes>"
      ]
     },
     "metadata": {
      "needs_background": "light"
     },
     "output_type": "display_data"
    }
   ],
   "source": [
    "rev_time.plot(table=True, figsize=(6, 6), yticks=(np.arange(0, 140, step=10)))"
   ]
  },
  {
   "cell_type": "code",
   "execution_count": 284,
   "metadata": {},
   "outputs": [
    {
     "data": {
      "text/plain": [
       "author           hour\n",
       "Alan             11       3\n",
       "                 14       1\n",
       "                 15       1\n",
       "Dave             9        1\n",
       "                 20       1\n",
       "Freddie          8        2\n",
       "                 9        1\n",
       "                 10       2\n",
       "                 13       1\n",
       "                 18       1\n",
       "Jimmy            8        3\n",
       "                 9        4\n",
       "                 10      11\n",
       "                 11      21\n",
       "                 12      17\n",
       "                 13      33\n",
       "                 14      45\n",
       "                 15      10\n",
       "                 16       6\n",
       "                 17       2\n",
       "Nicky            13       1\n",
       "                 14       2\n",
       "                 17       1\n",
       "                 19       1\n",
       "Thomas           8        7\n",
       "                 9       25\n",
       "                 10      15\n",
       "                 11      30\n",
       "                 12      12\n",
       "                 13      13\n",
       "                 14      37\n",
       "                 15      23\n",
       "                 16      29\n",
       "UNKNOWN          7        1\n",
       "                 10       2\n",
       "                 11       3\n",
       "                 13       3\n",
       "                 14       4\n",
       "                 15       9\n",
       "                 16       1\n",
       "                 17       1\n",
       "Vincent          5        1\n",
       "                 6        3\n",
       "                 7        1\n",
       "                 9        2\n",
       "                 12       2\n",
       "                 13       5\n",
       "                 14       5\n",
       "                 15       1\n",
       "                 16       3\n",
       "                 18       1\n",
       "                 20       2\n",
       "ajon0002         14       2\n",
       "                 15       7\n",
       "murari.krishnan  15       1\n",
       "Name: revision, dtype: int64"
      ]
     },
     "execution_count": 284,
     "metadata": {},
     "output_type": "execute_result"
    }
   ],
   "source": [
    "rev_time = changes.groupby([\"author\", \"hour\"]).count()[\"revision\"]\n",
    "rev_time"
   ]
  },
  {
   "cell_type": "code",
   "execution_count": 285,
   "metadata": {},
   "outputs": [
    {
     "data": {
      "image/png": "[encoded data removed]",
      "text/plain": [
       "<Figure size 1440x720 with 1 Axes>"
      ]
     },
     "metadata": {
      "needs_background": "light"
     },
     "output_type": "display_data"
    }
   ],
   "source": [
    "# construct plot\n",
    "# https://www.datacamp.com/community/tutorials/seaborn-python-tutorial\n",
    "f, ax = plt.subplots(figsize = (20, 10))\n",
    "sns.swarmplot(x=\"author\", y=\"hour\", data=changes, ax=ax)\n",
    "\n",
    "# Show plot\n",
    "plt.show()"
   ]
  },
  {
   "cell_type": "markdown",
   "metadata": {},
   "source": [
    " "
   ]
  },
  {
   "cell_type": "markdown",
   "metadata": {},
   "source": [
    "5. Identify the activity by day of the week to see if there was any activity over weekends.\n",
    " - Pie Chart"
   ]
  },
  {
   "cell_type": "code",
   "execution_count": 286,
   "metadata": {},
   "outputs": [
    {
     "data": {
      "text/plain": [
       "weekday\n",
       "Friday        95\n",
       "Monday        53\n",
       "Thursday     118\n",
       "Tuesday       80\n",
       "Wednesday     76\n",
       "Name: revision, dtype: int64"
      ]
     },
     "execution_count": 286,
     "metadata": {},
     "output_type": "execute_result"
    }
   ],
   "source": [
    "rev_day = changes.groupby([\"weekday\"]).count()[\"revision\"]\n",
    "rev_day"
   ]
  },
  {
   "cell_type": "code",
   "execution_count": 287,
   "metadata": {},
   "outputs": [
    {
     "data": {
      "text/plain": [
       "[Text(0,0.5,''), Text(0.5,0,'')]"
      ]
     },
     "execution_count": 287,
     "metadata": {},
     "output_type": "execute_result"
    },
    {
     "data": {
      "image/png": "[encoded data removed]",
      "text/plain": [
       "<Figure size 432x288 with 1 Axes>"
      ]
     },
     "metadata": {},
     "output_type": "display_data"
    }
   ],
   "source": [
    "rev_day.plot(kind = 'pie', title = 'Revisions by Day of the Week', rot = 45, ).set(xlabel = '', ylabel = '')"
   ]
  },
  {
   "cell_type": "markdown",
   "metadata": {},
   "source": [
    " "
   ]
  },
  {
   "cell_type": "markdown",
   "metadata": {},
   "source": [
    "6. Identify activity outside of typical working hours (ie. 9am - 6pm) and represent graphically\n",
    " - Bar Chart"
   ]
  },
  {
   "cell_type": "code",
   "execution_count": 288,
   "metadata": {},
   "outputs": [
    {
     "data": {
      "text/plain": [
       "8"
      ]
     },
     "execution_count": 288,
     "metadata": {},
     "output_type": "execute_result"
    }
   ],
   "source": [
    "changes['author'][changes['time'] > '17:30:00'].count()"
   ]
  },
  {
   "cell_type": "code",
   "execution_count": 289,
   "metadata": {},
   "outputs": [],
   "source": [
    "afterSix = changes[changes['hour']>=18]"
   ]
  },
  {
   "cell_type": "code",
   "execution_count": 290,
   "metadata": {},
   "outputs": [
    {
     "data": {
      "text/plain": [
       "author\n",
       "Dave       1\n",
       "Freddie    1\n",
       "Nicky      1\n",
       "Vincent    3\n",
       "Name: revision, dtype: int64"
      ]
     },
     "execution_count": 290,
     "metadata": {},
     "output_type": "execute_result"
    }
   ],
   "source": [
    "afterSix = afterSix.groupby([\"author\"]).count()[\"revision\"]\n",
    "afterSix"
   ]
  },
  {
   "cell_type": "code",
   "execution_count": 291,
   "metadata": {},
   "outputs": [
    {
     "data": {
      "text/plain": [
       "[Text(0,0.5,'Total Commits'), Text(0.5,0,'Authors')]"
      ]
     },
     "execution_count": 291,
     "metadata": {},
     "output_type": "execute_result"
    },
    {
     "data": {
      "image/png": "[encoded data removed]",
      "text/plain": [
       "<Figure size 432x288 with 1 Axes>"
      ]
     },
     "metadata": {
      "needs_background": "light"
     },
     "output_type": "display_data"
    }
   ],
   "source": [
    "afterSix.plot(kind = 'bar', title = 'Commits after 6pm', rot = 45, ).set(xlabel = 'Authors', ylabel = 'Total Commits')"
   ]
  },
  {
   "cell_type": "code",
   "execution_count": 292,
   "metadata": {},
   "outputs": [],
   "source": [
    "beforeNine = changes[changes['hour']<=8]"
   ]
  },
  {
   "cell_type": "code",
   "execution_count": 293,
   "metadata": {},
   "outputs": [
    {
     "data": {
      "text/plain": [
       "author\n",
       "Freddie    2\n",
       "Jimmy      3\n",
       "Thomas     7\n",
       "UNKNOWN    1\n",
       "Vincent    5\n",
       "Name: revision, dtype: int64"
      ]
     },
     "execution_count": 293,
     "metadata": {},
     "output_type": "execute_result"
    }
   ],
   "source": [
    "beforeNine = beforeNine.groupby([\"author\"]).count()[\"revision\"]\n",
    "beforeNine"
   ]
  },
  {
   "cell_type": "code",
   "execution_count": 294,
   "metadata": {},
   "outputs": [
    {
     "data": {
      "text/plain": [
       "[Text(0,0.5,'Total Commits'), Text(0.5,0,'Authors')]"
      ]
     },
     "execution_count": 294,
     "metadata": {},
     "output_type": "execute_result"
    },
    {
     "data": {
      "image/png": "[encoded data removed]",
      "text/plain": [
       "<Figure size 432x288 with 1 Axes>"
      ]
     },
     "metadata": {
      "needs_background": "light"
     },
     "output_type": "display_data"
    }
   ],
   "source": [
    "beforeNine.plot(kind = 'bar', title = 'Commits before 9am', rot = 45, ).set(xlabel = 'Authors', ylabel = 'Total Commits')"
   ]
  },
  {
   "cell_type": "markdown",
   "metadata": {},
   "source": [
    "# Summary of Analysis"
   ]
  },
  {
   "cell_type": "markdown",
   "metadata": {},
   "source": [
    "As part of the analysis we looked at the data from 6 different perspectives\n",
    "\n",
    "1. Comment detail per commit (averages)\n",
    "2. Total commit volumes per author \n",
    "3. Number of revisions made per month to understand peak and tough activity\n",
    "4. Timing of commits (hour of the day)\n",
    "5. Activity by day of the week \n",
    "6. Activity outside of typical working hours (ie. 9am - 6pm)\n"
   ]
  },
  {
   "cell_type": "markdown",
   "metadata": {},
   "source": [
    "# Statistical Pieces of \"Interestingness\""
   ]
  },
  {
   "cell_type": "markdown",
   "metadata": {},
   "source": [
    "1. The team don't do much work outside of typical working hours \n",
    " - There were no commits made on weekends.\n",
    " - There were a total of 26 commits outside of standard working hours over the 5 months (18 before 9am,  and 8 after 5.30pm) - which is quite low. \n",
    "\n",
    "\n",
    "2. Team member commits are not consistent  \n",
    " - There are some team members who are doing considerably more commits that the rest of the team.\n",
    " - Thomas and Jimmy make the vast majority of commits when compared to other team members. \n",
    "\n",
    "\n",
    "3. There are some peaks and troughs in terms of commit activity\n",
    " - The vast majority of commits are made in the middle of the day at around 2pm. If there are operational constraints, the team could looks to distribute commits more over the course of the day. \n",
    " - There is an even enough spread of commits over the days of the week, but in terms of months, each month had relatively consistant levels of activity, however, September had less than half the volume of commits as other months. This might be worth looking into if it is already not understood. \n",
    "\n"
   ]
  },
  {
   "cell_type": "code",
   "execution_count": null,
   "metadata": {},
   "outputs": [],
   "source": []
  }
 ],
 "metadata": {
  "kernelspec": {
   "display_name": "Python 3",
   "language": "python",
   "name": "python3"
  },
  "language_info": {
   "codemirror_mode": {
    "name": "ipython",
    "version": 3
   },
   "file_extension": ".py",
   "mimetype": "text/x-python",
   "name": "python",
   "nbconvert_exporter": "python",
   "pygments_lexer": "ipython3",
   "version": "3.7.0"
  }
 },
 "nbformat": 4,
 "nbformat_minor": 2
}
